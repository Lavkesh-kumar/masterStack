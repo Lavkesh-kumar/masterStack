{
 "cells": [
  {
   "cell_type": "code",
   "execution_count": 1,
   "id": "00055d38",
   "metadata": {},
   "outputs": [],
   "source": [
    "#import required library\n",
    "\n",
    "import numpy as np\n",
    "import matplotlib.pyplot as plt\n",
    "import os\n",
    "import cv2\n",
    "import cvlib as cv\n",
    "from cvlib.object_detection import draw_bbox"
   ]
  },
  {
   "cell_type": "code",
   "execution_count": 2,
   "id": "606f22de",
   "metadata": {},
   "outputs": [],
   "source": [
    "#vehicle count model from an given image\n",
    "               #returns number of vechiles in given image\n",
    "    \n",
    "\n",
    "def myModel(image):\n",
    "    \n",
    "    #image = image_path\n",
    "    #image = cv2.imread(image_path)\n",
    "    \n",
    "    gray = cv2.cvtColor(image, cv2.COLOR_BGR2GRAY)\n",
    "    \n",
    "    box,label,count = cv.detect_common_objects(image)\n",
    "    output = draw_bbox(image,box,label,count)\n",
    "    \n",
    "    output = cv2.cvtColor(output, cv2.COLOR_BGR2GRAY)\n",
    "    \n",
    "    return len(label)"
   ]
  },
  {
   "cell_type": "markdown",
   "id": "d046dc58",
   "metadata": {},
   "source": [
    "### Due to unavailibility of aruduino board we are using here a downloaded dataset \n",
    "### The code for aruduino is mentioned in commented form as required"
   ]
  },
  {
   "cell_type": "code",
   "execution_count": 3,
   "id": "92fe9357",
   "metadata": {},
   "outputs": [],
   "source": [
    "#function from loading all images from folder\n",
    "\n",
    "def load_images_from_folder(folder):\n",
    "    images = []\n",
    "    for filename in os.listdir(folder):\n",
    "        img = cv2.imread(os.path.join(folder,filename))\n",
    "        if img is not None:\n",
    "            images.append(img)\n",
    "    return images"
   ]
  },
  {
   "cell_type": "code",
   "execution_count": 4,
   "id": "209b5806",
   "metadata": {},
   "outputs": [],
   "source": [
    "#loading all images from folder\n",
    "               #i.e's calling the load_images_from_folder function\n",
    "\n",
    "folder = \"C:\\\\Users\\\\HP\\\\Downloads\\\\archive\\\\batch\"\n",
    "images = load_images_from_folder(folder)"
   ]
  },
  {
   "cell_type": "code",
   "execution_count": 5,
   "id": "8ea8eb75",
   "metadata": {},
   "outputs": [
    {
     "name": "stdout",
     "output_type": "stream",
     "text": [
      "150\n"
     ]
    }
   ],
   "source": [
    "print(len(images))"
   ]
  },
  {
   "cell_type": "code",
   "execution_count": 6,
   "id": "6f691a27",
   "metadata": {},
   "outputs": [],
   "source": [
    "#images"
   ]
  },
  {
   "cell_type": "code",
   "execution_count": 7,
   "id": "72c96be4",
   "metadata": {
    "scrolled": true
   },
   "outputs": [],
   "source": [
    "#for i in range(150):\n",
    " #   plt.imshow(images[i], interpolation='nearest')\n",
    "  #  plt.show()"
   ]
  },
  {
   "cell_type": "code",
   "execution_count": 8,
   "id": "151331bf",
   "metadata": {},
   "outputs": [],
   "source": [
    "#function that returns array of  length of vechiles of all four sides of  crossroad in single cycle\n",
    "\n",
    "\n",
    "counter=0\n",
    "def den_gen(images):\n",
    "    global counter\n",
    "    d=[]\n",
    "    for i in range(4):\n",
    "        \n",
    "        x = myModel(images[counter+i])\n",
    "        d.append(x)\n",
    "       \n",
    "    counter +=4\n",
    "    return d \n",
    "\n",
    "\n",
    "\n",
    "\n",
    "#image_path = input(\"Enter image path :\")\n",
    "#image_path = C:\\\\Users\\\\HP\\\\OneDrive\\\\Desktop\\\\Me\\\\Concetto\\\\Images\\\\coin_counting_Image.png\n",
    "#print(\"\\n\\n\\n\",myModel(image_path),\"\\n\\n\")"
   ]
  },
  {
   "cell_type": "code",
   "execution_count": 9,
   "id": "cd95c90a",
   "metadata": {},
   "outputs": [],
   "source": [
    "d = den_gen(images)"
   ]
  },
  {
   "cell_type": "code",
   "execution_count": 10,
   "id": "e6d85a20",
   "metadata": {},
   "outputs": [],
   "source": [
    "def signal_out(a):\n",
    "  mx=max(a)\n",
    "  #checking for no vehicle condition\n",
    "  if 0 in a:\n",
    "    ind=a.index(0)\n",
    "    signal[ind]=0\n",
    "  ind=a.index(mx)\n",
    "  signal[ind]=1\n",
    "  out=signal\n",
    "  return out,mx"
   ]
  },
  {
   "cell_type": "code",
   "execution_count": 11,
   "id": "1435fa7b",
   "metadata": {},
   "outputs": [],
   "source": [
    "#array of signals corresponding to all 4 routes\n",
    "signal=[0,0,0,0]"
   ]
  },
  {
   "cell_type": "code",
   "execution_count": 12,
   "id": "0559d208",
   "metadata": {},
   "outputs": [],
   "source": [
    "#following code runs for controlling arduino\n",
    "#pip install machine"
   ]
  },
  {
   "cell_type": "code",
   "execution_count": 13,
   "id": "6eab1613",
   "metadata": {},
   "outputs": [],
   "source": [
    "import serial\n",
    "import time\n",
    "#from machine import Pin"
   ]
  },
  {
   "cell_type": "code",
   "execution_count": 14,
   "id": "e48d2518",
   "metadata": {},
   "outputs": [],
   "source": [
    "#dev = serial.Serial(\"COM4\", baudrate=19200)"
   ]
  },
  {
   "cell_type": "code",
   "execution_count": 15,
   "id": "d04f6565",
   "metadata": {},
   "outputs": [],
   "source": [
    "#led1=Pin(11, Pin.OUT)\n",
    "#led2=Pin(12, Pin.OUT)\n",
    "#led3=Pin(13, Pin.OUT)\n",
    "#led4=Pin(14, Pin.OUT)\n"
   ]
  },
  {
   "cell_type": "code",
   "execution_count": 16,
   "id": "71e1c8c6",
   "metadata": {},
   "outputs": [
    {
     "name": "stdout",
     "output_type": "stream",
     "text": [
      "enter the no of iterations needed :12\n"
     ]
    }
   ],
   "source": [
    "global run\n",
    "run=int(input(\"enter the no of iterations needed :\"))\n",
    "#here you can set iterations needed for the day's operation"
   ]
  },
  {
   "cell_type": "code",
   "execution_count": 17,
   "id": "eb832aa8",
   "metadata": {
    "scrolled": true
   },
   "outputs": [
    {
     "name": "stdout",
     "output_type": "stream",
     "text": [
      "time lapse : 0.4666666666666667\n",
      "[0, 0, 0, 1]\n",
      "time lapse : 0.2\n",
      "[1, 0, 0, 0]\n",
      "time lapse : 0.2\n",
      "[0, 1, 0, 0]\n",
      "time lapse : 0.13333333333333333\n",
      "[0, 0, 1, 0]\n",
      "time lapse : 0.45454545454545453\n",
      "[1, 0, 0, 0]\n",
      "time lapse : 0.45454545454545453\n",
      "[0, 0, 0, 1]\n",
      "time lapse : 0.09090909090909091\n",
      "[0, 0, 1, 0]\n",
      "time lapse : 0.0\n",
      "[0, 1, 0, 0]\n",
      "time lapse : 0.4\n",
      "[0, 1, 0, 0]\n",
      "time lapse : 0.3\n",
      "[0, 0, 1, 0]\n",
      "time lapse : 0.3\n",
      "[0, 0, 0, 1]\n",
      "time lapse : 0.0\n",
      "[1, 0, 0, 0]\n",
      "time lapse : 0.5\n",
      "[0, 0, 1, 0]\n",
      "time lapse : 0.375\n",
      "[1, 0, 0, 0]\n",
      "time lapse : 0.125\n",
      "[0, 1, 0, 0]\n",
      "time lapse : 0.0\n",
      "[0, 0, 0, 1]\n",
      "time lapse : 0.7222222222222222\n",
      "[1, 0, 0, 0]\n",
      "time lapse : 0.16666666666666666\n",
      "[0, 1, 0, 0]\n",
      "time lapse : 0.1111111111111111\n",
      "[0, 0, 0, 1]\n",
      "time lapse : 0.0\n",
      "[0, 0, 1, 0]\n",
      "time lapse : 0.42857142857142855\n",
      "[0, 0, 0, 1]\n",
      "time lapse : 0.2857142857142857\n",
      "[1, 0, 0, 0]\n",
      "time lapse : 0.14285714285714285\n",
      "[0, 1, 0, 0]\n",
      "time lapse : 0.14285714285714285\n",
      "[0, 0, 1, 0]\n",
      "time lapse : 0.6\n",
      "[0, 0, 0, 1]\n",
      "time lapse : 0.3\n",
      "[0, 1, 0, 0]\n",
      "time lapse : 0.1\n",
      "[0, 0, 1, 0]\n",
      "time lapse : 0.0\n",
      "[1, 0, 0, 0]\n",
      "time lapse : 1.0\n",
      "[0, 0, 1, 0]\n",
      "time lapse : 0.0\n",
      "[1, 0, 0, 0]\n",
      "time lapse : 0.0\n",
      "[0, 1, 0, 0]\n",
      "time lapse : 0.0\n",
      "[0, 0, 0, 1]\n",
      "time lapse : 0.6666666666666666\n",
      "[0, 1, 0, 0]\n",
      "time lapse : 0.3333333333333333\n",
      "[0, 0, 1, 0]\n",
      "time lapse : 0.0\n",
      "[1, 0, 0, 0]\n",
      "time lapse : 0.0\n",
      "[0, 0, 0, 1]\n",
      "time lapse : 1.0\n",
      "[0, 0, 1, 0]\n",
      "time lapse : 0.0\n",
      "[1, 0, 0, 0]\n",
      "time lapse : 0.0\n",
      "[0, 1, 0, 0]\n",
      "time lapse : 0.0\n",
      "[0, 0, 0, 1]\n",
      "time lapse : 0.7142857142857143\n",
      "[0, 1, 0, 0]\n",
      "time lapse : 0.14285714285714285\n",
      "[1, 0, 0, 0]\n",
      "time lapse : 0.14285714285714285\n",
      "[0, 0, 0, 1]\n",
      "time lapse : 0.0\n",
      "[0, 0, 1, 0]\n",
      "time lapse : 1.0\n",
      "[0, 1, 0, 0]\n",
      "time lapse : 0.0\n",
      "[1, 0, 0, 0]\n",
      "time lapse : 0.0\n",
      "[0, 0, 1, 0]\n",
      "time lapse : 0.0\n",
      "[0, 0, 0, 1]\n"
     ]
    }
   ],
   "source": [
    "#commented codes run to communicate with attached arduiono board\n",
    "while(run>0):\n",
    "    c=4\n",
    "    mx=0\n",
    "    d=den_gen(images)\n",
    "    sum= np.sum(d)\n",
    "    while(c>0):\n",
    "      arr,mx=signal_out(d)\n",
    "      on=arr.index(1)\n",
    "      if on==0:\n",
    "        arr[0]=1\n",
    "        #led1.value(0)\n",
    "      elif on==1:\n",
    "        arr[1]=1\n",
    "        #led.value(0)\n",
    "      elif on==2:\n",
    "        #led3.value(0)\n",
    "        arr[2]=1\n",
    "      elif on==3:\n",
    "        #led4.value(0)\n",
    "        arr[3]=1  \n",
    "      t=(mx/sum)\n",
    "      print(\"time lapse :\",t)\n",
    "      time.sleep(t)\n",
    "      d[d.index(mx)]=-1\n",
    "      print(arr)\n",
    "      for i in range(0,len(arr)):\n",
    "            arr[i]=0\n",
    "      #led1.value(1)\n",
    "      #led2.value(1)\n",
    "      #led3.value(1)\n",
    "      #led4.value(1)\n",
    "      c=c-1\n",
    "    run=run-1\n",
    "    del d\n",
    "    \n",
    "    \n",
    "#0 signifies red traffic light\n",
    "#1 signifies green traffic light"
   ]
  },
  {
   "cell_type": "code",
   "execution_count": null,
   "id": "a384bcd2",
   "metadata": {},
   "outputs": [],
   "source": []
  }
 ],
 "metadata": {
  "kernelspec": {
   "display_name": "Python 3 (ipykernel)",
   "language": "python",
   "name": "python3"
  },
  "language_info": {
   "codemirror_mode": {
    "name": "ipython",
    "version": 3
   },
   "file_extension": ".py",
   "mimetype": "text/x-python",
   "name": "python",
   "nbconvert_exporter": "python",
   "pygments_lexer": "ipython3",
   "version": "3.9.12"
  }
 },
 "nbformat": 4,
 "nbformat_minor": 5
}
